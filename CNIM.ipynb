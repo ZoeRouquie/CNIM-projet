{
 "cells": [
  {
   "cell_type": "markdown",
   "metadata": {},
   "source": [
    "Analyse du portefeuille de brevets de CNIM 662043595\n",
    "\n"
   ]
  },
  {
   "cell_type": "markdown",
   "metadata": {},
   "source": [
    "1) - dynamique de l'innovation\n",
    "-> nombre de brevets par an, largeur de la famille au cours du temps"
   ]
  },
  {
   "cell_type": "markdown",
   "metadata": {},
   "source": [
    "Je m'intéresse à sa quantité d'innovation, et non sa qualité, je ne prends donc pas en compte le fait qu'un brevet soit délivré ou non. "
   ]
  },
  {
   "cell_type": "code",
   "execution_count": null,
   "metadata": {
    "vscode": {
     "languageId": "sql"
    }
   },
   "outputs": [],
   "source": [
    "--liste de tous les brevets de CNIM GROUPE\n",
    "Select distinct a.docdb_family_id as brevet ,a.granted,appln_filing_year as year, appln_auth as country,han_name \n",
    "from tls201_appln a\n",
    "inner join tls207_pers_appln p on a.appln_id = p.appln_id\n",
    "inner join tls206_person i on  p.person_id = i.person_id\n",
    "where (han_name like 'CNIM GROUPE%' or han_name like 'CONSTRUCTIONS IND DE LA MÉDITERRANÉE%')\n",
    "and psn_sector = 'COMPANY'\n"
   ]
  },
  {
   "cell_type": "code",
   "execution_count": null,
   "metadata": {
    "vscode": {
     "languageId": "sql"
    }
   },
   "outputs": [],
   "source": [
    "-- nb demandes par famille de demande\n",
    "Select a.docdb_family_id, count(distinct a.appln_id) as nb_demande\n",
    "from tls201_appln a\n",
    "inner join tls207_pers_appln p on a.appln_id = p.appln_id\n",
    "inner join tls206_person i on  p.person_id = i.person_id\n",
    "where han_name like 'CNIM GROUPE%' \n",
    "and psn_sector = 'COMPANY'\n",
    "group by  a.docdb_family_id"
   ]
  },
  {
   "cell_type": "code",
   "execution_count": null,
   "metadata": {
    "vscode": {
     "languageId": "sql"
    }
   },
   "outputs": [],
   "source": [
    "--nombre de brevets par an\n",
    "Select appln_filing_year as year, count(distinct a.docdb_family_id) as nb_brevets \n",
    "from tls201_appln a\n",
    "inner join tls207_pers_appln p on a.appln_id = p.appln_id\n",
    "inner join tls206_person i on  p.person_id = i.person_id\n",
    "where (han_name like 'CNIM GROUPE%' or han_name like 'CONSTRUCTIONS IND DE LA MÉDITERRANÉE%')\n",
    "and psn_sector = 'COMPANY'\n",
    "group by appln_filing_year\n",
    "order by year"
   ]
  },
  {
   "cell_type": "markdown",
   "metadata": {},
   "source": [
    "2) - géographie: pour un même brevet (donc d'une meme famille et du meme auteur) "
   ]
  },
  {
   "cell_type": "code",
   "execution_count": null,
   "metadata": {
    "vscode": {
     "languageId": "sql"
    }
   },
   "outputs": [],
   "source": [
    "select appln_auth as country, appln_filing_year as year,han_name,\n",
    "count(distinct a.appln_id) as number_demande\n",
    " from tls201_appln a\n",
    "inner join tls207_pers_appln p on a.appln_id = p.appln_id\n",
    "inner join tls206_person i on  p.person_id = i.person_id\n",
    "where han_name like 'CNIM GROUPE%' \n",
    "and psn_sector = 'COMPANY'\n",
    "group by appln_auth,appln_filing_year,han_name\n",
    "order by appln_filing_year"
   ]
  },
  {
   "cell_type": "markdown",
   "metadata": {},
   "source": [
    "3) - diversité des champs d'application\n",
    "\n",
    "Pour se faire j'utilise l'IPC class par application"
   ]
  },
  {
   "cell_type": "code",
   "execution_count": null,
   "metadata": {
    "vscode": {
     "languageId": "sql"
    }
   },
   "outputs": [],
   "source": [
    "Select left(ipc.ipc_class_symbol,4) as IPC, count(distinct a.appln_id) as number_demandes \n",
    "from tls201_appln a\n",
    "inner join tls207_pers_appln p on a.appln_id = p.appln_id\n",
    "inner join tls206_person i on  p.person_id = i.person_id\n",
    "left join tls209_appln_ipc ipc on a.appln_id = ipc.appln_id\n",
    "where (han_name like 'CNIM GROUPE%' or han_name like 'CONSTRUCTIONS IND DE LA MÉDITERRANÉE%')\n",
    "and psn_sector = 'COMPANY'\n",
    "group by left(ipc.ipc_class_symbol,4)\n",
    "order by count(distinct a.appln_id) desc "
   ]
  },
  {
   "cell_type": "markdown",
   "metadata": {},
   "source": [
    "nombre d'ipc par application"
   ]
  },
  {
   "cell_type": "code",
   "execution_count": null,
   "metadata": {
    "vscode": {
     "languageId": "sql"
    }
   },
   "outputs": [],
   "source": [
    "Select  a.appln_id, count(left(ipc.ipc_class_symbol,4))as nb_IPC\n",
    "from tls201_appln a\n",
    "inner join tls207_pers_appln p on a.appln_id = p.appln_id\n",
    "inner join tls206_person i on  p.person_id = i.person_id\n",
    "left join tls209_appln_ipc ipc on a.appln_id = ipc.appln_id\n",
    "where han_name like 'CNIM GROUPE%'\n",
    "and psn_sector = 'COMPANY'\n",
    "group by a.appln_id\n"
   ]
  },
  {
   "cell_type": "markdown",
   "metadata": {},
   "source": [
    "Pour obtenir la variance et la moyenne de chaque distribution de nombre de classe par année "
   ]
  },
  {
   "cell_type": "code",
   "execution_count": null,
   "metadata": {
    "vscode": {
     "languageId": "sql"
    }
   },
   "outputs": [],
   "source": [
    "SELECT \n",
    "    (AVG(nb_IPC_2) - POWER(AVG(nb_IPC), 2)) * (COUNT(*) / (COUNT(*) - 1)) AS variance,\n",
    "    AVG(nb_IPC) AS moyenne \n",
    "FROM (\n",
    "    SELECT  \n",
    "        a.appln_id, \n",
    "        COUNT(LEFT(ipc.ipc_class_symbol, 4)) AS nb_IPC,  \n",
    "        POWER(COUNT(LEFT(ipc.ipc_class_symbol, 4)), 2) AS nb_IPC_2\n",
    "    FROM \n",
    "        tls201_appln a\n",
    "    LEFT JOIN \n",
    "        tls209_appln_ipc ipc \n",
    "    ON \n",
    "        a.appln_id = ipc.appln_id\n",
    "    WHERE \n",
    "        a.appln_filing_year = '2019'\n",
    "    GROUP BY \n",
    "        a.appln_id\n",
    ") subquery;\n"
   ]
  },
  {
   "cell_type": "markdown",
   "metadata": {},
   "source": [
    "Nombre de fois que chaque classe IPC a été utilisée annuellement"
   ]
  },
  {
   "cell_type": "code",
   "execution_count": null,
   "metadata": {
    "vscode": {
     "languageId": "sql"
    }
   },
   "outputs": [],
   "source": [
    "Select a.appln_filing_year, left(ipc.ipc_class_symbol,4) as IPC, count(left(ipc.ipc_class_symbol,4) ) as nb_IPC\n",
    "from tls201_appln a\n",
    "inner join tls207_pers_appln p on a.appln_id = p.appln_id\n",
    "inner join tls206_person i on  p.person_id = i.person_id\n",
    "left join tls209_appln_ipc ipc on a.appln_id = ipc.appln_id\n",
    "where han_name like 'CNIM GROUPE%'\n",
    "and psn_sector = 'COMPANY'\n",
    "group by a.appln_filing_year, left(ipc.ipc_class_symbol,4)\n",
    "order by a.appln_filing_year,left(ipc.ipc_class_symbol,4)"
   ]
  },
  {
   "cell_type": "markdown",
   "metadata": {},
   "source": [
    "4. Positionnement stratégique: radical ou incrémental"
   ]
  },
  {
   "cell_type": "markdown",
   "metadata": {},
   "source": [
    "Forward et backward citations\n",
    "\n",
    "S'il n'y a pas beaucoup de backward et beaucoup de forward-> invention radicale"
   ]
  },
  {
   "cell_type": "markdown",
   "metadata": {},
   "source": [
    "Les backward citations"
   ]
  },
  {
   "cell_type": "code",
   "execution_count": null,
   "metadata": {
    "vscode": {
     "languageId": "sql"
    }
   },
   "outputs": [],
   "source": [
    "--liste des backwards \n",
    "SELECT \n",
    "    DISTINCT \n",
    "    a.docdb_family_id,\n",
    "    a.appln_id,\n",
    "    a.appln_filing_year AS anneeA,      -- Année de dépôt\n",
    "   count( cit.cited_pat_publn_id) AS nb_backwards -- backward par famille de brevets\n",
    " \n",
    "FROM \n",
    "    tls201_appln a\n",
    "INNER JOIN \n",
    "    tls207_pers_appln p ON a.appln_id = p.appln_id\n",
    "INNER JOIN \n",
    "    tls206_person i ON p.person_id = i.person_id\n",
    "inner join tls211_pat_publn t on t.appln_id = a.appln_id\n",
    "inner JOIN \n",
    " tls212_citation cit ON t.pat_publn_id = cit.pat_publn_id --backwards\n",
    "WHERE \n",
    "    i.han_name LIKE 'CNIM GROUPE%' -- Filtrer sur le groupe\n",
    "    AND a.ipr_type = 'PI'         -- Type de propriété intellectuelle\n",
    "    AND p.applt_seq_nr > 0        -- Vérifier que c'est le déposant principal\n",
    "    AND p.invt_seq_nr = 0         -- Exclure les inventeurs\n",
    "   \n",
    "   group by   a.docdb_family_id, a.appln_id, a.appln_filing_year\n",
    "    \n",
    "ORDER BY \n",
    "    a.docdb_family_id,\n",
    "    a.appln_id,\n",
    "    a.appln_filing_year\n",
    "    \n",
    "    \n",
    "\n"
   ]
  },
  {
   "cell_type": "markdown",
   "metadata": {},
   "source": [
    "Obtenir la moyenne et la variance du nombre de backwards de la cohorte de chaque demande de brevet"
   ]
  },
  {
   "cell_type": "code",
   "execution_count": null,
   "metadata": {
    "vscode": {
     "languageId": "sql"
    }
   },
   "outputs": [],
   "source": [
    "SELECT \n",
    "    (AVG(nb_backwards_2) - POWER(AVG(nb_backwards), 2)) * (1.0 * COUNT(*) / (COUNT(*) - 1)) AS variance,\n",
    "    AVG(nb_backwards) AS moyenne \n",
    "FROM (\n",
    "    SELECT  \n",
    "        a.appln_id, \n",
    "        count( cit.cited_pat_publn_id) AS nb_backwards,\n",
    "        POWER( 1.0* count(cit.cited_pat_publn_id), 2) AS nb_backwards_2\n",
    "    FROM \n",
    "        tls201_appln a\n",
    " inner join tls211_pat_publn t on t.appln_id = a.appln_id\n",
    "inner JOIN \n",
    " tls212_citation cit ON t.pat_publn_id = cit.pat_publn_id \n",
    "    WHERE \n",
    "        a.appln_filing_year = '2020'\n",
    "    GROUP BY \n",
    "        a.appln_id\n",
    ") subquery;\n"
   ]
  },
  {
   "cell_type": "markdown",
   "metadata": {},
   "source": [
    "Nombre de forwards"
   ]
  },
  {
   "cell_type": "code",
   "execution_count": null,
   "metadata": {
    "vscode": {
     "languageId": "sql"
    }
   },
   "outputs": [],
   "source": [
    "Select a.docdb_family_id, count(distinct f.docdb_family_id) as nb_forward\n",
    "from tls201_appln a \n",
    "inner join tls228_docdb_fam_citn f on cited_docdb_family_id = a.docdb_family_id\n",
    "INNER JOIN \n",
    "    tls207_pers_appln p ON a.appln_id = p.appln_id\n",
    "INNER JOIN \n",
    "    tls206_person i ON p.person_id = i.person_id\n",
    "WHERE \n",
    "    i.han_name LIKE 'CNIM GROUPE%' -- Filtrer sur le groupe\n",
    "    AND a.ipr_type = 'PI'         -- Type de propriété intellectuelle\n",
    "    AND p.applt_seq_nr > 0        -- Vérifier que c'est le déposant principal\n",
    "    AND p.invt_seq_nr = 0    \n",
    "group by a.docdb_family_id\n"
   ]
  },
  {
   "cell_type": "code",
   "execution_count": null,
   "metadata": {
    "vscode": {
     "languageId": "sql"
    }
   },
   "outputs": [],
   "source": []
  },
  {
   "cell_type": "code",
   "execution_count": null,
   "metadata": {
    "vscode": {
     "languageId": "sql"
    }
   },
   "outputs": [],
   "source": []
  },
  {
   "cell_type": "markdown",
   "metadata": {},
   "source": [
    "6° Les concurrents et les positionner "
   ]
  },
  {
   "cell_type": "code",
   "execution_count": null,
   "metadata": {
    "vscode": {
     "languageId": "sql"
    }
   },
   "outputs": [],
   "source": [
    "--liste des backwards \n",
    "Select i.han_name, left(ipc.ipc_class_symbol,4) as ipc, count(distinct a.appln_id) as nb_backwards\n",
    "FROM \n",
    "    tls201_appln a\n",
    "inner join tls211_pat_publn pat on \ta.appln_id = pat.appln_id\n",
    "INNER JOIN \n",
    "    tls207_pers_appln p ON a.appln_id = p.appln_id\n",
    "INNER JOIN \n",
    "    tls206_person i ON p.person_id = i.person_id\n",
    "left join tls209_appln_ipc ipc on a.appln_id = ipc.appln_id\n",
    "where pat.pat_publn_id in \n",
    "(SELECT \n",
    " \tdistinct cit.cited_pat_publn_id AS backwards -- backward \n",
    "FROM \n",
    "    tls201_appln a\n",
    "INNER JOIN \n",
    "    tls207_pers_appln p ON a.appln_id = p.appln_id\n",
    "INNER JOIN \n",
    "    tls206_person i ON p.person_id = i.person_id\n",
    "inner join tls211_pat_publn t on t.appln_id = a.appln_id\n",
    "inner JOIN \n",
    " tls212_citation cit ON t.pat_publn_id = cit.pat_publn_id --backwards\n",
    "WHERE \n",
    "    i.han_name LIKE 'CNIM GROUPE%' -- Filtrer sur le groupe\n",
    "    AND a.ipr_type = 'PI'         -- Type de propriété intellectuelle\n",
    "    AND p.applt_seq_nr > 0        -- Vérifier que c'est le déposant principal\n",
    "    AND p.invt_seq_nr = 0         -- Exclure les inventeurs\n",
    "   )\n",
    "   \n",
    "   group by i.han_name, left(ipc.ipc_class_symbol,4)\n",
    "   order by nb_backwards desc\n",
    "\n",
    "    \n",
    "\n",
    "    \n",
    "\n"
   ]
  },
  {
   "cell_type": "markdown",
   "metadata": {},
   "source": [
    "7° qualité des brevets"
   ]
  },
  {
   "cell_type": "markdown",
   "metadata": {},
   "source": [
    "grant lag:"
   ]
  },
  {
   "cell_type": "code",
   "execution_count": null,
   "metadata": {
    "vscode": {
     "languageId": "sql"
    }
   },
   "outputs": [],
   "source": [
    "SELECT \n",
    "    DISTINCT a.appln_id, \n",
    "    DATEDIFF(day, a.earliest_filing_date,t.publn_date) AS filing_to_publication_days\n",
    "FROM \n",
    "    tls201_appln a\n",
    "INNER JOIN \n",
    "    tls207_pers_appln p ON a.appln_id = p.appln_id\n",
    "INNER JOIN \n",
    "    tls206_person i ON p.person_id = i.person_id\n",
    "INNER JOIN \n",
    "    tls211_pat_publn t ON a.earliest_pat_publn_id = t.pat_publn_id\n",
    "WHERE \n",
    "    i.han_name LIKE 'CNIM GROUPE%'\n",
    "    AND a.ipr_type = 'PI'       \n",
    "    AND p.applt_seq_nr > 0      \n",
    "    AND p.invt_seq_nr = 0        \n",
    "    AND a.granted = 'Y'\n"
   ]
  },
  {
   "cell_type": "markdown",
   "metadata": {},
   "source": [
    "grant lag cohortes:"
   ]
  },
  {
   "cell_type": "code",
   "execution_count": null,
   "metadata": {
    "vscode": {
     "languageId": "sql"
    }
   },
   "outputs": [],
   "source": [
    "SELECT  \n",
    "    (AVG(CAST(lag_grant_2 AS BIGINT)) - POWER(AVG(CAST(lag_grant AS FLOAT)), 2)) * ((1.0 * COUNT(*)) / (COUNT(*) - 1)) AS variance,\n",
    "    AVG(CAST(lag_grant AS FLOAT)) AS moyenne \n",
    "FROM (\n",
    "    SELECT \n",
    "        a.appln_id, \n",
    "        DATEDIFF(day, a.earliest_filing_date, t.publn_date) AS lag_grant,\n",
    "        POWER(1.0 * CAST(DATEDIFF(day, a.earliest_filing_date, t.publn_date) AS BIGINT), 2) AS lag_grant_2\n",
    "    FROM \n",
    "        tls201_appln a\n",
    "    INNER JOIN \n",
    "        tls211_pat_publn t ON a.earliest_pat_publn_id = t.pat_publn_id\n",
    "    WHERE \n",
    "        a.appln_filing_year = '2015'\n",
    "        and granted = 'Y'\n",
    ") subquery;\n"
   ]
  },
  {
   "cell_type": "markdown",
   "metadata": {},
   "source": [
    "nb de revendications"
   ]
  },
  {
   "cell_type": "code",
   "execution_count": null,
   "metadata": {
    "vscode": {
     "languageId": "sql"
    }
   },
   "outputs": [],
   "source": [
    "SELECT \n",
    "  distinct a.appln_id, a.appln_filing_year,t.publn_claims\n",
    "FROM \n",
    "    tls201_appln a\n",
    "INNER JOIN \n",
    "    tls207_pers_appln p ON a.appln_id = p.appln_id\n",
    "INNER JOIN \n",
    "    tls206_person i ON p.person_id = i.person_id\n",
    "INNER JOIN \n",
    "    tls211_pat_publn t ON a.appln_id = t.appln_id\n",
    "WHERE \n",
    "    i.han_name LIKE 'CNIM GROUPE%'\n",
    "    AND a.ipr_type = 'PI'       \n",
    "    AND p.applt_seq_nr > 0      \n",
    "    AND p.invt_seq_nr = 0        \n"
   ]
  },
  {
   "cell_type": "markdown",
   "metadata": {},
   "source": [
    "comparer avec les cohortes"
   ]
  },
  {
   "cell_type": "code",
   "execution_count": null,
   "metadata": {
    "vscode": {
     "languageId": "sql"
    }
   },
   "outputs": [],
   "source": [
    "SELECT  \n",
    "    (AVG(CAST(claims_2 AS BIGINT)) - POWER(AVG(CAST(claims AS FLOAT)), 2)) * ((1.0 * COUNT(*)) / (COUNT(*) - 1)) AS variance,\n",
    "    AVG(CAST(claims AS FLOAT)) AS moyenne \n",
    "FROM (\n",
    "    SELECT \n",
    "        a.appln_id, \n",
    "        t.publn_claims AS claims, \n",
    "        POWER(1.0 * t.publn_claims, 2) AS claims_2\n",
    "    FROM \n",
    "        tls201_appln a\n",
    "    INNER JOIN \n",
    "        tls207_pers_appln p ON a.appln_id = p.appln_id\n",
    "    INNER JOIN \n",
    "        tls206_person i ON p.person_id = i.person_id\n",
    "    INNER JOIN \n",
    "        tls211_pat_publn t ON a.appln_id = t.appln_id\n",
    "    WHERE \n",
    "        a.appln_filing_year = '2019'\n",
    "        AND t.publn_claims != 0\n",
    ") subquery;\n"
   ]
  },
  {
   "cell_type": "markdown",
   "metadata": {},
   "source": [
    "Indice d'originalité"
   ]
  },
  {
   "cell_type": "code",
   "execution_count": null,
   "metadata": {
    "vscode": {
     "languageId": "sql"
    }
   },
   "outputs": [],
   "source": [
    "SELECT \n",
    " \t a.appln_id,left(ipc.ipc_class_symbol,4) as ipc, count(*) --ipc des backwards \n",
    "FROM \n",
    "    tls201_appln a\n",
    "INNER JOIN \n",
    "    tls207_pers_appln p ON a.appln_id = p.appln_id\n",
    "INNER JOIN \n",
    "    tls206_person i ON p.person_id = i.person_id\n",
    "inner join tls211_pat_publn t on t.appln_id = a.appln_id\n",
    "inner JOIN \n",
    " tls212_citation cit ON t.pat_publn_id = cit.pat_publn_id --backwards\n",
    " inner join tls211_pat_publn cit2 on cit.cited_pat_publn_id = cit2.pat_publn_id\n",
    " inner join tls201_appln cit3 on cit2.appln_id = cit3.appln_id\n",
    " inner join tls209_appln_ipc ipc on ipc.appln_id = cit3.appln_id\n",
    "WHERE \n",
    "    i.han_name LIKE 'CNIM GROUPE%' -- Filtrer sur le groupe\n",
    "    AND a.ipr_type = 'PI'         -- Type de propriété intellectuelle\n",
    "    AND p.applt_seq_nr > 0        -- Vérifier que c'est le déposant principal\n",
    "    AND p.invt_seq_nr = 0   \n",
    "    group by  a.appln_id,left(ipc.ipc_class_symbol,4)"
   ]
  }
 ],
 "metadata": {
  "language_info": {
   "name": "python"
  }
 },
 "nbformat": 4,
 "nbformat_minor": 2
}
